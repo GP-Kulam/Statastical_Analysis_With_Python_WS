{
 "cells": [
  {
   "cell_type": "code",
   "execution_count": 1,
   "id": "3b92118d",
   "metadata": {},
   "outputs": [
    {
     "name": "stdout",
     "output_type": "stream",
     "text": [
      "Welcome to Python World!\n"
     ]
    }
   ],
   "source": [
    "print(\"Welcome to Python World!\")"
   ]
  },
  {
   "cell_type": "code",
   "execution_count": 3,
   "id": "65a5e62d",
   "metadata": {},
   "outputs": [
    {
     "name": "stdout",
     "output_type": "stream",
     "text": [
      " ______________\n",
      "|              |\n",
      "|              |\n",
      "|              |\n",
      "|              |\n",
      " --------------\n"
     ]
    }
   ],
   "source": [
    "print(\" ______________\")\n",
    "print(\"|              |\")\n",
    "print(\"|              |\")\n",
    "print(\"|              |\")\n",
    "print(\"|              |\")\n",
    "print(\" --------------\")"
   ]
  },
  {
   "cell_type": "code",
   "execution_count": 7,
   "id": "7cff0851",
   "metadata": {},
   "outputs": [
    {
     "name": "stdout",
     "output_type": "stream",
     "text": [
      "*********\n",
      "*       *\n",
      "*       *\n",
      "*       *\n",
      "*********\n"
     ]
    }
   ],
   "source": [
    "print(\"*********\")\n",
    "print(\"*\", \" \" * 5, \"*\")\n",
    "print(\"*\", \" \" * 5, \"*\")\n",
    "print(\"*\", \" \" * 5, \"*\")\n",
    "print(\"*********\")"
   ]
  },
  {
   "cell_type": "code",
   "execution_count": 13,
   "id": "826473bb",
   "metadata": {},
   "outputs": [
    {
     "name": "stdout",
     "output_type": "stream",
     "text": [
      "*********\n",
      "*       *\n",
      "*       *\n",
      "*       *\n",
      "*********\n"
     ]
    }
   ],
   "source": [
    "for i in range(5):\n",
    "    if i == 0 or i == 4:\n",
    "        print(\"*\"*9)\n",
    "    else:\n",
    "        print(\"*\", \" \" * 5, \"*\")"
   ]
  },
  {
   "cell_type": "code",
   "execution_count": 16,
   "id": "0a3d1cf2",
   "metadata": {},
   "outputs": [
    {
     "name": "stdout",
     "output_type": "stream",
     "text": [
      "Enter the num: 18\n",
      "18 * 1 = 18\n",
      "18 * 2 = 36\n",
      "18 * 3 = 54\n",
      "18 * 4 = 72\n",
      "18 * 5 = 90\n",
      "18 * 6 = 108\n",
      "18 * 7 = 126\n",
      "18 * 8 = 144\n",
      "18 * 9 = 162\n",
      "18 * 10 = 180\n"
     ]
    }
   ],
   "source": [
    "num = int(input(\"Enter the num: \"))\n",
    "for i in range(1, 11):\n",
    "    print(f\"{num} * {i} = {num * i}\")"
   ]
  },
  {
   "cell_type": "code",
   "execution_count": 18,
   "id": "334304d9",
   "metadata": {},
   "outputs": [
    {
     "name": "stdout",
     "output_type": "stream",
     "text": [
      "Enter a number: 13\n",
      "13 is odd\n"
     ]
    }
   ],
   "source": [
    "num = int(input(\"Enter a number: \"))\n",
    "if num % 2 == 0:\n",
    "    print(f\"{num} is even\")\n",
    "else:\n",
    "    print(f\"{num} is odd\")"
   ]
  },
  {
   "cell_type": "code",
   "execution_count": 19,
   "id": "4ca63664",
   "metadata": {},
   "outputs": [
    {
     "name": "stdout",
     "output_type": "stream",
     "text": [
      "[1, 2, 3, 4, 5, 6, 7, 8, 9, 10]\n"
     ]
    }
   ],
   "source": [
    "lst1 = [1, 2, 3, 4, 5]\n",
    "lst1.append(6)\n",
    "lst2 = [7, 8, 9, 10]\n",
    "lst1.extend(lst2)\n",
    "print(lst1)"
   ]
  },
  {
   "cell_type": "code",
   "execution_count": 20,
   "id": "ba0e2a52",
   "metadata": {},
   "outputs": [
    {
     "name": "stdout",
     "output_type": "stream",
     "text": [
      "[3, 6, 9]\n"
     ]
    }
   ],
   "source": [
    "lst3 = []\n",
    "for ele in lst1:\n",
    "    if ele % 3 == 0:\n",
    "        lst3.append(ele)\n",
    "print(lst3)        "
   ]
  },
  {
   "cell_type": "code",
   "execution_count": 29,
   "id": "5c3f8212",
   "metadata": {},
   "outputs": [
    {
     "name": "stdout",
     "output_type": "stream",
     "text": [
      "['Java', 'Python', 'Java', 'Python', '.Net', 'CPP', 'C', 'C', 'Java']\n",
      "5\n",
      "{'Java': 3, 'Python': 2, '.Net': 1, 'CPP': 1, 'C': 2}\n"
     ]
    }
   ],
   "source": [
    "lst = \"Java, Python, Java, Python, .Net, CPP, C, C, Java\".split(\", \")\n",
    "print(lst)\n",
    "dect = {\"Java\" : 3, \"Python\" : 4, \"C\" : 2}\n",
    "keys = dect.keys()\n",
    "dect[\"Java\"] = 5\n",
    "print(dect[\"Java\"])\n",
    "dect1 = {}\n",
    "for x in lst:\n",
    "    if x in dect1:\n",
    "        dect1[x] += 1\n",
    "    else:\n",
    "        dect1[x] = 1\n",
    "print(dect1)    "
   ]
  },
  {
   "cell_type": "code",
   "execution_count": 33,
   "id": "3ac2ffdc",
   "metadata": {},
   "outputs": [
    {
     "name": "stdout",
     "output_type": "stream",
     "text": [
      "[2, 3, 5, 7, 11, 13, 17, 19, 23, 29, 31, 37, 41, 43, 47, 53, 59, 61, 67, 71]\n"
     ]
    }
   ],
   "source": [
    "def isPrime(num):\n",
    "    if num < 2:\n",
    "        return False\n",
    "    if num % 2 == 0 and num != 2:\n",
    "        return False\n",
    "    for i in range(2, num // 2 + 1):\n",
    "        if num % i == 0:\n",
    "            return False\n",
    "    return True  \n",
    "\n",
    "def generatePrime(n):\n",
    "    primeList = []\n",
    "    i = 2\n",
    "    while len(primeList) != n:\n",
    "        if isPrime(i):\n",
    "            primeList.append(i)\n",
    "        i += 1    \n",
    "    return primeList\n",
    "\n",
    "lst = generatePrime(20)\n",
    "print(lst)"
   ]
  },
  {
   "cell_type": "code",
   "execution_count": 36,
   "id": "d9c8cc4f",
   "metadata": {},
   "outputs": [
    {
     "name": "stdout",
     "output_type": "stream",
     "text": [
      "30\n"
     ]
    }
   ],
   "source": [
    "def res(a, b, f):\n",
    "    return f(a, b)\n",
    "def add(a, b):\n",
    "    return a + b\n",
    "print(res(10, 20, lambda a, b:a+b))"
   ]
  },
  {
   "cell_type": "code",
   "execution_count": null,
   "id": "35af037f",
   "metadata": {},
   "outputs": [],
   "source": []
  }
 ],
 "metadata": {
  "kernelspec": {
   "display_name": "Python 3 (ipykernel)",
   "language": "python",
   "name": "python3"
  },
  "language_info": {
   "codemirror_mode": {
    "name": "ipython",
    "version": 3
   },
   "file_extension": ".py",
   "mimetype": "text/x-python",
   "name": "python",
   "nbconvert_exporter": "python",
   "pygments_lexer": "ipython3",
   "version": "3.9.7"
  }
 },
 "nbformat": 4,
 "nbformat_minor": 5
}
